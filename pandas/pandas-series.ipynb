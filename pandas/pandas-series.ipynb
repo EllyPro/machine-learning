{
 "cells": [
  {
   "cell_type": "code",
   "execution_count": 1,
   "id": "d361c8d6",
   "metadata": {},
   "outputs": [],
   "source": [
    "import numpy as np"
   ]
  },
  {
   "cell_type": "code",
   "execution_count": 2,
   "id": "dc077a6c",
   "metadata": {},
   "outputs": [],
   "source": [
    "import pandas as pd"
   ]
  },
  {
   "cell_type": "code",
   "execution_count": 3,
   "id": "9677ce6d",
   "metadata": {},
   "outputs": [],
   "source": [
    "myindex = ['USA','CANADA','UZBEKISTAN']"
   ]
  },
  {
   "cell_type": "code",
   "execution_count": 4,
   "id": "0665b5f1",
   "metadata": {},
   "outputs": [],
   "source": [
    "mydata = [177,161,151]"
   ]
  },
  {
   "cell_type": "code",
   "execution_count": 8,
   "id": "35c1fc8e",
   "metadata": {},
   "outputs": [],
   "source": [
    "myser = pd.Series(data = mydata,index=myindex)"
   ]
  },
  {
   "cell_type": "code",
   "execution_count": 9,
   "id": "151f699e",
   "metadata": {},
   "outputs": [
    {
     "data": {
      "text/plain": [
       "USA           177\n",
       "CANADA        161\n",
       "UZBEKISTAN    151\n",
       "dtype: int64"
      ]
     },
     "execution_count": 9,
     "metadata": {},
     "output_type": "execute_result"
    }
   ],
   "source": [
    "myser"
   ]
  },
  {
   "cell_type": "code",
   "execution_count": 10,
   "id": "3dcb25e0",
   "metadata": {},
   "outputs": [
    {
     "data": {
      "text/plain": [
       "177"
      ]
     },
     "execution_count": 10,
     "metadata": {},
     "output_type": "execute_result"
    }
   ],
   "source": [
    "myser[0]"
   ]
  },
  {
   "cell_type": "code",
   "execution_count": 11,
   "id": "6b3ab4ca",
   "metadata": {},
   "outputs": [
    {
     "data": {
      "text/plain": [
       "177"
      ]
     },
     "execution_count": 11,
     "metadata": {},
     "output_type": "execute_result"
    }
   ],
   "source": [
    "myser[\"USA\"]"
   ]
  },
  {
   "cell_type": "code",
   "execution_count": 12,
   "id": "11375474",
   "metadata": {},
   "outputs": [],
   "source": [
    " ages = {'Sam':5,'Elly':21,'SHoh':22}"
   ]
  },
  {
   "cell_type": "code",
   "execution_count": 13,
   "id": "25bca7b2",
   "metadata": {},
   "outputs": [
    {
     "data": {
      "text/plain": [
       "Sam      5\n",
       "Elly    21\n",
       "SHoh    22\n",
       "dtype: int64"
      ]
     },
     "execution_count": 13,
     "metadata": {},
     "output_type": "execute_result"
    }
   ],
   "source": [
    "pd.Series(ages)"
   ]
  },
  {
   "cell_type": "code",
   "execution_count": null,
   "id": "33b4bdfd",
   "metadata": {},
   "outputs": [],
   "source": []
  }
 ],
 "metadata": {
  "kernelspec": {
   "display_name": "Python 3 (ipykernel)",
   "language": "python",
   "name": "python3"
  },
  "language_info": {
   "codemirror_mode": {
    "name": "ipython",
    "version": 3
   },
   "file_extension": ".py",
   "mimetype": "text/x-python",
   "name": "python",
   "nbconvert_exporter": "python",
   "pygments_lexer": "ipython3",
   "version": "3.9.12"
  }
 },
 "nbformat": 4,
 "nbformat_minor": 5
}
