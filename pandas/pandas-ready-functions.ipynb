{
 "cells": [
  {
   "cell_type": "code",
   "execution_count": 1,
   "id": "db991823",
   "metadata": {},
   "outputs": [],
   "source": [
    "import numpy as np"
   ]
  },
  {
   "cell_type": "code",
   "execution_count": 2,
   "id": "54778185",
   "metadata": {},
   "outputs": [],
   "source": [
    "import pandas as pd"
   ]
  },
  {
   "cell_type": "code",
   "execution_count": 4,
   "id": "5b69c57c",
   "metadata": {},
   "outputs": [],
   "source": [
    "names = pd.Series(['Elyorbek','Ilyos','Shohruh','Dilmurod','Ahmadjon','5'])"
   ]
  },
  {
   "cell_type": "code",
   "execution_count": 5,
   "id": "38257659",
   "metadata": {},
   "outputs": [
    {
     "data": {
      "text/plain": [
       "0    Elyorbek\n",
       "1       Ilyos\n",
       "2     Shohruh\n",
       "3    Dilmurod\n",
       "4    Ahmadjon\n",
       "5           5\n",
       "dtype: object"
      ]
     },
     "execution_count": 5,
     "metadata": {},
     "output_type": "execute_result"
    }
   ],
   "source": [
    "names"
   ]
  },
  {
   "cell_type": "code",
   "execution_count": 6,
   "id": "5477d534",
   "metadata": {},
   "outputs": [
    {
     "data": {
      "text/plain": [
       "0    ELYORBEK\n",
       "1       ILYOS\n",
       "2     SHOHRUH\n",
       "3    DILMUROD\n",
       "4    AHMADJON\n",
       "5           5\n",
       "dtype: object"
      ]
     },
     "execution_count": 6,
     "metadata": {},
     "output_type": "execute_result"
    }
   ],
   "source": [
    "names.str.upper()"
   ]
  },
  {
   "cell_type": "code",
   "execution_count": 8,
   "id": "5bd89601",
   "metadata": {},
   "outputs": [],
   "source": [
    "email = 'pro100elly@gmail.com'"
   ]
  },
  {
   "cell_type": "code",
   "execution_count": 9,
   "id": "a14a7a49",
   "metadata": {},
   "outputs": [
    {
     "data": {
      "text/plain": [
       "False"
      ]
     },
     "execution_count": 9,
     "metadata": {},
     "output_type": "execute_result"
    }
   ],
   "source": [
    "email.isdigit()"
   ]
  },
  {
   "cell_type": "code",
   "execution_count": 11,
   "id": "6e565cf8",
   "metadata": {},
   "outputs": [
    {
     "data": {
      "text/plain": [
       "0    8\n",
       "1    5\n",
       "2    7\n",
       "3    8\n",
       "4    8\n",
       "5    1\n",
       "dtype: int64"
      ]
     },
     "execution_count": 11,
     "metadata": {},
     "output_type": "execute_result"
    }
   ],
   "source": [
    "names.str.len()"
   ]
  },
  {
   "cell_type": "code",
   "execution_count": 12,
   "id": "4cd69da8",
   "metadata": {},
   "outputs": [],
   "source": [
    "messy_names = pd.Series(['andrew  ','bo;bo','   claire  '])"
   ]
  },
  {
   "cell_type": "code",
   "execution_count": 13,
   "id": "be019315",
   "metadata": {},
   "outputs": [
    {
     "data": {
      "text/plain": [
       "0       andrew  \n",
       "1          bo;bo\n",
       "2       claire  \n",
       "dtype: object"
      ]
     },
     "execution_count": 13,
     "metadata": {},
     "output_type": "execute_result"
    }
   ],
   "source": [
    "messy_names"
   ]
  },
  {
   "cell_type": "code",
   "execution_count": 17,
   "id": "21a01c52",
   "metadata": {},
   "outputs": [
    {
     "data": {
      "text/plain": [
       "0    Andrew\n",
       "1      Bobo\n",
       "2    Claire\n",
       "dtype: object"
      ]
     },
     "execution_count": 17,
     "metadata": {},
     "output_type": "execute_result"
    }
   ],
   "source": [
    "messy_names.str.replace(';','').str.strip().str.capitalize()"
   ]
  },
  {
   "cell_type": "code",
   "execution_count": 22,
   "id": "7df6f761",
   "metadata": {},
   "outputs": [],
   "source": [
    "def cleanup(name):\n",
    "    name = name.replace(';','')\n",
    "    name = name.strip()\n",
    "    name = name.capitalize()\n",
    "    return name"
   ]
  },
  {
   "cell_type": "code",
   "execution_count": 19,
   "id": "c113705c",
   "metadata": {},
   "outputs": [],
   "source": [
    "m2_names = pd.Series(['elyy    ','bo;bo','      aaaaa      '])"
   ]
  },
  {
   "cell_type": "code",
   "execution_count": 20,
   "id": "772eaf38",
   "metadata": {},
   "outputs": [
    {
     "data": {
      "text/plain": [
       "0             elyy    \n",
       "1                bo;bo\n",
       "2          aaaaa      \n",
       "dtype: object"
      ]
     },
     "execution_count": 20,
     "metadata": {},
     "output_type": "execute_result"
    }
   ],
   "source": [
    "m2_names"
   ]
  },
  {
   "cell_type": "code",
   "execution_count": 23,
   "id": "9c6bb926",
   "metadata": {},
   "outputs": [
    {
     "data": {
      "text/plain": [
       "0     Elyy\n",
       "1     Bobo\n",
       "2    Aaaaa\n",
       "dtype: object"
      ]
     },
     "execution_count": 23,
     "metadata": {},
     "output_type": "execute_result"
    }
   ],
   "source": [
    "m2_names.apply(cleanup)"
   ]
  },
  {
   "cell_type": "code",
   "execution_count": 24,
   "id": "e6f9d46a",
   "metadata": {},
   "outputs": [],
   "source": [
    "from datetime import datetime"
   ]
  },
  {
   "cell_type": "code",
   "execution_count": 25,
   "id": "4925d666",
   "metadata": {},
   "outputs": [],
   "source": [
    "myser = pd.Series(['Nov 3, 2000','2000-01-01',None])"
   ]
  },
  {
   "cell_type": "code",
   "execution_count": 31,
   "id": "e101c176",
   "metadata": {},
   "outputs": [
    {
     "data": {
      "text/plain": [
       "Timestamp('2000-11-03 00:00:00')"
      ]
     },
     "execution_count": 31,
     "metadata": {},
     "output_type": "execute_result"
    }
   ],
   "source": [
    "pd.to_datetime(myser[0])"
   ]
  },
  {
   "cell_type": "code",
   "execution_count": null,
   "id": "43ddfe8e",
   "metadata": {},
   "outputs": [],
   "source": []
  },
  {
   "cell_type": "code",
   "execution_count": 28,
   "id": "b2a3a2f9",
   "metadata": {},
   "outputs": [],
   "source": [
    "timeser = pd.to_datetime(myser)"
   ]
  },
  {
   "cell_type": "code",
   "execution_count": 29,
   "id": "8dac2c3d",
   "metadata": {},
   "outputs": [
    {
     "data": {
      "text/plain": [
       "2000"
      ]
     },
     "execution_count": 29,
     "metadata": {},
     "output_type": "execute_result"
    }
   ],
   "source": [
    "timeser[0].year"
   ]
  },
  {
   "cell_type": "code",
   "execution_count": 30,
   "id": "fa4a6a91",
   "metadata": {},
   "outputs": [
    {
     "data": {
      "text/plain": [
       "0   2021-12-21\n",
       "dtype: datetime64[ns]"
      ]
     },
     "execution_count": 30,
     "metadata": {},
     "output_type": "execute_result"
    }
   ],
   "source": [
    "pd.to_datetime(pd.Series(['21 December,2021']))"
   ]
  },
  {
   "cell_type": "code",
   "execution_count": 32,
   "id": "aa326d9a",
   "metadata": {},
   "outputs": [],
   "source": [
    "sales = pd.read_csv('C:\\\\Users\\\\User\\\\jupyter-noutbooks\\\\03-Pandas\\\\RetailSales_BeerWineLiquor.csv')"
   ]
  },
  {
   "cell_type": "code",
   "execution_count": 33,
   "id": "d7232a0b",
   "metadata": {},
   "outputs": [
    {
     "data": {
      "text/html": [
       "<div>\n",
       "<style scoped>\n",
       "    .dataframe tbody tr th:only-of-type {\n",
       "        vertical-align: middle;\n",
       "    }\n",
       "\n",
       "    .dataframe tbody tr th {\n",
       "        vertical-align: top;\n",
       "    }\n",
       "\n",
       "    .dataframe thead th {\n",
       "        text-align: right;\n",
       "    }\n",
       "</style>\n",
       "<table border=\"1\" class=\"dataframe\">\n",
       "  <thead>\n",
       "    <tr style=\"text-align: right;\">\n",
       "      <th></th>\n",
       "      <th>DATE</th>\n",
       "      <th>MRTSSM4453USN</th>\n",
       "    </tr>\n",
       "  </thead>\n",
       "  <tbody>\n",
       "    <tr>\n",
       "      <th>0</th>\n",
       "      <td>1992-01-01</td>\n",
       "      <td>1509</td>\n",
       "    </tr>\n",
       "    <tr>\n",
       "      <th>1</th>\n",
       "      <td>1992-02-01</td>\n",
       "      <td>1541</td>\n",
       "    </tr>\n",
       "    <tr>\n",
       "      <th>2</th>\n",
       "      <td>1992-03-01</td>\n",
       "      <td>1597</td>\n",
       "    </tr>\n",
       "    <tr>\n",
       "      <th>3</th>\n",
       "      <td>1992-04-01</td>\n",
       "      <td>1675</td>\n",
       "    </tr>\n",
       "    <tr>\n",
       "      <th>4</th>\n",
       "      <td>1992-05-01</td>\n",
       "      <td>1822</td>\n",
       "    </tr>\n",
       "    <tr>\n",
       "      <th>...</th>\n",
       "      <td>...</td>\n",
       "      <td>...</td>\n",
       "    </tr>\n",
       "    <tr>\n",
       "      <th>335</th>\n",
       "      <td>2019-12-01</td>\n",
       "      <td>6630</td>\n",
       "    </tr>\n",
       "    <tr>\n",
       "      <th>336</th>\n",
       "      <td>2020-01-01</td>\n",
       "      <td>4388</td>\n",
       "    </tr>\n",
       "    <tr>\n",
       "      <th>337</th>\n",
       "      <td>2020-02-01</td>\n",
       "      <td>4533</td>\n",
       "    </tr>\n",
       "    <tr>\n",
       "      <th>338</th>\n",
       "      <td>2020-03-01</td>\n",
       "      <td>5562</td>\n",
       "    </tr>\n",
       "    <tr>\n",
       "      <th>339</th>\n",
       "      <td>2020-04-01</td>\n",
       "      <td>5207</td>\n",
       "    </tr>\n",
       "  </tbody>\n",
       "</table>\n",
       "<p>340 rows × 2 columns</p>\n",
       "</div>"
      ],
      "text/plain": [
       "           DATE  MRTSSM4453USN\n",
       "0    1992-01-01           1509\n",
       "1    1992-02-01           1541\n",
       "2    1992-03-01           1597\n",
       "3    1992-04-01           1675\n",
       "4    1992-05-01           1822\n",
       "..          ...            ...\n",
       "335  2019-12-01           6630\n",
       "336  2020-01-01           4388\n",
       "337  2020-02-01           4533\n",
       "338  2020-03-01           5562\n",
       "339  2020-04-01           5207\n",
       "\n",
       "[340 rows x 2 columns]"
      ]
     },
     "execution_count": 33,
     "metadata": {},
     "output_type": "execute_result"
    }
   ],
   "source": [
    "sales"
   ]
  },
  {
   "cell_type": "code",
   "execution_count": 39,
   "id": "e83bbd41",
   "metadata": {},
   "outputs": [],
   "source": [
    "sales['DATE'] = pd.to_datetime(sales['DATE'])"
   ]
  },
  {
   "cell_type": "code",
   "execution_count": 40,
   "id": "051c5275",
   "metadata": {},
   "outputs": [
    {
     "data": {
      "text/html": [
       "<div>\n",
       "<style scoped>\n",
       "    .dataframe tbody tr th:only-of-type {\n",
       "        vertical-align: middle;\n",
       "    }\n",
       "\n",
       "    .dataframe tbody tr th {\n",
       "        vertical-align: top;\n",
       "    }\n",
       "\n",
       "    .dataframe thead th {\n",
       "        text-align: right;\n",
       "    }\n",
       "</style>\n",
       "<table border=\"1\" class=\"dataframe\">\n",
       "  <thead>\n",
       "    <tr style=\"text-align: right;\">\n",
       "      <th></th>\n",
       "      <th>DATE</th>\n",
       "      <th>MRTSSM4453USN</th>\n",
       "    </tr>\n",
       "  </thead>\n",
       "  <tbody>\n",
       "    <tr>\n",
       "      <th>0</th>\n",
       "      <td>1992-01-01</td>\n",
       "      <td>1509</td>\n",
       "    </tr>\n",
       "    <tr>\n",
       "      <th>1</th>\n",
       "      <td>1992-02-01</td>\n",
       "      <td>1541</td>\n",
       "    </tr>\n",
       "    <tr>\n",
       "      <th>2</th>\n",
       "      <td>1992-03-01</td>\n",
       "      <td>1597</td>\n",
       "    </tr>\n",
       "    <tr>\n",
       "      <th>3</th>\n",
       "      <td>1992-04-01</td>\n",
       "      <td>1675</td>\n",
       "    </tr>\n",
       "    <tr>\n",
       "      <th>4</th>\n",
       "      <td>1992-05-01</td>\n",
       "      <td>1822</td>\n",
       "    </tr>\n",
       "    <tr>\n",
       "      <th>...</th>\n",
       "      <td>...</td>\n",
       "      <td>...</td>\n",
       "    </tr>\n",
       "    <tr>\n",
       "      <th>335</th>\n",
       "      <td>2019-12-01</td>\n",
       "      <td>6630</td>\n",
       "    </tr>\n",
       "    <tr>\n",
       "      <th>336</th>\n",
       "      <td>2020-01-01</td>\n",
       "      <td>4388</td>\n",
       "    </tr>\n",
       "    <tr>\n",
       "      <th>337</th>\n",
       "      <td>2020-02-01</td>\n",
       "      <td>4533</td>\n",
       "    </tr>\n",
       "    <tr>\n",
       "      <th>338</th>\n",
       "      <td>2020-03-01</td>\n",
       "      <td>5562</td>\n",
       "    </tr>\n",
       "    <tr>\n",
       "      <th>339</th>\n",
       "      <td>2020-04-01</td>\n",
       "      <td>5207</td>\n",
       "    </tr>\n",
       "  </tbody>\n",
       "</table>\n",
       "<p>340 rows × 2 columns</p>\n",
       "</div>"
      ],
      "text/plain": [
       "          DATE  MRTSSM4453USN\n",
       "0   1992-01-01           1509\n",
       "1   1992-02-01           1541\n",
       "2   1992-03-01           1597\n",
       "3   1992-04-01           1675\n",
       "4   1992-05-01           1822\n",
       "..         ...            ...\n",
       "335 2019-12-01           6630\n",
       "336 2020-01-01           4388\n",
       "337 2020-02-01           4533\n",
       "338 2020-03-01           5562\n",
       "339 2020-04-01           5207\n",
       "\n",
       "[340 rows x 2 columns]"
      ]
     },
     "execution_count": 40,
     "metadata": {},
     "output_type": "execute_result"
    }
   ],
   "source": [
    "sales"
   ]
  },
  {
   "cell_type": "code",
   "execution_count": 41,
   "id": "00e18729",
   "metadata": {},
   "outputs": [
    {
     "data": {
      "text/plain": [
       "0     1992-01-01\n",
       "1     1992-02-01\n",
       "2     1992-03-01\n",
       "3     1992-04-01\n",
       "4     1992-05-01\n",
       "         ...    \n",
       "335   2019-12-01\n",
       "336   2020-01-01\n",
       "337   2020-02-01\n",
       "338   2020-03-01\n",
       "339   2020-04-01\n",
       "Name: DATE, Length: 340, dtype: datetime64[ns]"
      ]
     },
     "execution_count": 41,
     "metadata": {},
     "output_type": "execute_result"
    }
   ],
   "source": [
    "sales['DATE']"
   ]
  },
  {
   "cell_type": "code",
   "execution_count": 51,
   "id": "a5843477",
   "metadata": {},
   "outputs": [],
   "source": [
    "sales = pd.read_csv('C:\\\\Users\\\\User\\\\jupyter-noutbooks\\\\03-Pandas\\\\RetailSales_BeerWineLiquor.csv',parse_dates=[0])"
   ]
  },
  {
   "cell_type": "code",
   "execution_count": 53,
   "id": "35f9fc7e",
   "metadata": {},
   "outputs": [
    {
     "data": {
      "text/html": [
       "<div>\n",
       "<style scoped>\n",
       "    .dataframe tbody tr th:only-of-type {\n",
       "        vertical-align: middle;\n",
       "    }\n",
       "\n",
       "    .dataframe tbody tr th {\n",
       "        vertical-align: top;\n",
       "    }\n",
       "\n",
       "    .dataframe thead th {\n",
       "        text-align: right;\n",
       "    }\n",
       "</style>\n",
       "<table border=\"1\" class=\"dataframe\">\n",
       "  <thead>\n",
       "    <tr style=\"text-align: right;\">\n",
       "      <th></th>\n",
       "      <th>DATE</th>\n",
       "      <th>MRTSSM4453USN</th>\n",
       "    </tr>\n",
       "  </thead>\n",
       "  <tbody>\n",
       "    <tr>\n",
       "      <th>0</th>\n",
       "      <td>1992-01-01</td>\n",
       "      <td>1509</td>\n",
       "    </tr>\n",
       "    <tr>\n",
       "      <th>1</th>\n",
       "      <td>1992-02-01</td>\n",
       "      <td>1541</td>\n",
       "    </tr>\n",
       "    <tr>\n",
       "      <th>2</th>\n",
       "      <td>1992-03-01</td>\n",
       "      <td>1597</td>\n",
       "    </tr>\n",
       "    <tr>\n",
       "      <th>3</th>\n",
       "      <td>1992-04-01</td>\n",
       "      <td>1675</td>\n",
       "    </tr>\n",
       "    <tr>\n",
       "      <th>4</th>\n",
       "      <td>1992-05-01</td>\n",
       "      <td>1822</td>\n",
       "    </tr>\n",
       "    <tr>\n",
       "      <th>...</th>\n",
       "      <td>...</td>\n",
       "      <td>...</td>\n",
       "    </tr>\n",
       "    <tr>\n",
       "      <th>335</th>\n",
       "      <td>2019-12-01</td>\n",
       "      <td>6630</td>\n",
       "    </tr>\n",
       "    <tr>\n",
       "      <th>336</th>\n",
       "      <td>2020-01-01</td>\n",
       "      <td>4388</td>\n",
       "    </tr>\n",
       "    <tr>\n",
       "      <th>337</th>\n",
       "      <td>2020-02-01</td>\n",
       "      <td>4533</td>\n",
       "    </tr>\n",
       "    <tr>\n",
       "      <th>338</th>\n",
       "      <td>2020-03-01</td>\n",
       "      <td>5562</td>\n",
       "    </tr>\n",
       "    <tr>\n",
       "      <th>339</th>\n",
       "      <td>2020-04-01</td>\n",
       "      <td>5207</td>\n",
       "    </tr>\n",
       "  </tbody>\n",
       "</table>\n",
       "<p>340 rows × 2 columns</p>\n",
       "</div>"
      ],
      "text/plain": [
       "          DATE  MRTSSM4453USN\n",
       "0   1992-01-01           1509\n",
       "1   1992-02-01           1541\n",
       "2   1992-03-01           1597\n",
       "3   1992-04-01           1675\n",
       "4   1992-05-01           1822\n",
       "..         ...            ...\n",
       "335 2019-12-01           6630\n",
       "336 2020-01-01           4388\n",
       "337 2020-02-01           4533\n",
       "338 2020-03-01           5562\n",
       "339 2020-04-01           5207\n",
       "\n",
       "[340 rows x 2 columns]"
      ]
     },
     "execution_count": 53,
     "metadata": {},
     "output_type": "execute_result"
    }
   ],
   "source": [
    "sales"
   ]
  },
  {
   "cell_type": "code",
   "execution_count": 54,
   "id": "e55e8a8e",
   "metadata": {},
   "outputs": [
    {
     "data": {
      "text/plain": [
       "0     1992-01-01\n",
       "1     1992-02-01\n",
       "2     1992-03-01\n",
       "3     1992-04-01\n",
       "4     1992-05-01\n",
       "         ...    \n",
       "335   2019-12-01\n",
       "336   2020-01-01\n",
       "337   2020-02-01\n",
       "338   2020-03-01\n",
       "339   2020-04-01\n",
       "Name: DATE, Length: 340, dtype: datetime64[ns]"
      ]
     },
     "execution_count": 54,
     "metadata": {},
     "output_type": "execute_result"
    }
   ],
   "source": [
    "sales['DATE']"
   ]
  },
  {
   "cell_type": "code",
   "execution_count": 56,
   "id": "234424b3",
   "metadata": {},
   "outputs": [],
   "source": [
    "sales = sales.set_index('DATE')"
   ]
  },
  {
   "cell_type": "code",
   "execution_count": 48,
   "id": "aef26347",
   "metadata": {},
   "outputs": [
    {
     "data": {
      "text/plain": [
       "0     1992-01-01\n",
       "1     1992-02-01\n",
       "2     1992-03-01\n",
       "3     1992-04-01\n",
       "4     1992-05-01\n",
       "         ...    \n",
       "335   2019-12-01\n",
       "336   2020-01-01\n",
       "337   2020-02-01\n",
       "338   2020-03-01\n",
       "339   2020-04-01\n",
       "Name: DATE, Length: 340, dtype: datetime64[ns]"
      ]
     },
     "execution_count": 48,
     "metadata": {},
     "output_type": "execute_result"
    }
   ],
   "source": [
    "sales['DATE']"
   ]
  },
  {
   "cell_type": "code",
   "execution_count": 57,
   "id": "97a46f3c",
   "metadata": {},
   "outputs": [
    {
     "data": {
      "text/html": [
       "<div>\n",
       "<style scoped>\n",
       "    .dataframe tbody tr th:only-of-type {\n",
       "        vertical-align: middle;\n",
       "    }\n",
       "\n",
       "    .dataframe tbody tr th {\n",
       "        vertical-align: top;\n",
       "    }\n",
       "\n",
       "    .dataframe thead th {\n",
       "        text-align: right;\n",
       "    }\n",
       "</style>\n",
       "<table border=\"1\" class=\"dataframe\">\n",
       "  <thead>\n",
       "    <tr style=\"text-align: right;\">\n",
       "      <th></th>\n",
       "      <th>MRTSSM4453USN</th>\n",
       "    </tr>\n",
       "    <tr>\n",
       "      <th>DATE</th>\n",
       "      <th></th>\n",
       "    </tr>\n",
       "  </thead>\n",
       "  <tbody>\n",
       "    <tr>\n",
       "      <th>1992-12-31</th>\n",
       "      <td>1807.250000</td>\n",
       "    </tr>\n",
       "    <tr>\n",
       "      <th>1993-12-31</th>\n",
       "      <td>1794.833333</td>\n",
       "    </tr>\n",
       "    <tr>\n",
       "      <th>1994-12-31</th>\n",
       "      <td>1841.750000</td>\n",
       "    </tr>\n",
       "    <tr>\n",
       "      <th>1995-12-31</th>\n",
       "      <td>1833.916667</td>\n",
       "    </tr>\n",
       "    <tr>\n",
       "      <th>1996-12-31</th>\n",
       "      <td>1929.750000</td>\n",
       "    </tr>\n",
       "    <tr>\n",
       "      <th>1997-12-31</th>\n",
       "      <td>2006.750000</td>\n",
       "    </tr>\n",
       "    <tr>\n",
       "      <th>1998-12-31</th>\n",
       "      <td>2115.166667</td>\n",
       "    </tr>\n",
       "    <tr>\n",
       "      <th>1999-12-31</th>\n",
       "      <td>2206.333333</td>\n",
       "    </tr>\n",
       "    <tr>\n",
       "      <th>2000-12-31</th>\n",
       "      <td>2375.583333</td>\n",
       "    </tr>\n",
       "    <tr>\n",
       "      <th>2001-12-31</th>\n",
       "      <td>2468.416667</td>\n",
       "    </tr>\n",
       "    <tr>\n",
       "      <th>2002-12-31</th>\n",
       "      <td>2491.166667</td>\n",
       "    </tr>\n",
       "    <tr>\n",
       "      <th>2003-12-31</th>\n",
       "      <td>2539.083333</td>\n",
       "    </tr>\n",
       "    <tr>\n",
       "      <th>2004-12-31</th>\n",
       "      <td>2682.416667</td>\n",
       "    </tr>\n",
       "    <tr>\n",
       "      <th>2005-12-31</th>\n",
       "      <td>2797.250000</td>\n",
       "    </tr>\n",
       "    <tr>\n",
       "      <th>2006-12-31</th>\n",
       "      <td>3001.333333</td>\n",
       "    </tr>\n",
       "    <tr>\n",
       "      <th>2007-12-31</th>\n",
       "      <td>3177.333333</td>\n",
       "    </tr>\n",
       "    <tr>\n",
       "      <th>2008-12-31</th>\n",
       "      <td>3292.000000</td>\n",
       "    </tr>\n",
       "    <tr>\n",
       "      <th>2009-12-31</th>\n",
       "      <td>3353.750000</td>\n",
       "    </tr>\n",
       "    <tr>\n",
       "      <th>2010-12-31</th>\n",
       "      <td>3450.083333</td>\n",
       "    </tr>\n",
       "    <tr>\n",
       "      <th>2011-12-31</th>\n",
       "      <td>3532.666667</td>\n",
       "    </tr>\n",
       "    <tr>\n",
       "      <th>2012-12-31</th>\n",
       "      <td>3697.083333</td>\n",
       "    </tr>\n",
       "    <tr>\n",
       "      <th>2013-12-31</th>\n",
       "      <td>3839.666667</td>\n",
       "    </tr>\n",
       "    <tr>\n",
       "      <th>2014-12-31</th>\n",
       "      <td>4023.833333</td>\n",
       "    </tr>\n",
       "    <tr>\n",
       "      <th>2015-12-31</th>\n",
       "      <td>4212.500000</td>\n",
       "    </tr>\n",
       "    <tr>\n",
       "      <th>2016-12-31</th>\n",
       "      <td>4434.416667</td>\n",
       "    </tr>\n",
       "    <tr>\n",
       "      <th>2017-12-31</th>\n",
       "      <td>4602.666667</td>\n",
       "    </tr>\n",
       "    <tr>\n",
       "      <th>2018-12-31</th>\n",
       "      <td>4830.666667</td>\n",
       "    </tr>\n",
       "    <tr>\n",
       "      <th>2019-12-31</th>\n",
       "      <td>4972.750000</td>\n",
       "    </tr>\n",
       "    <tr>\n",
       "      <th>2020-12-31</th>\n",
       "      <td>4922.500000</td>\n",
       "    </tr>\n",
       "  </tbody>\n",
       "</table>\n",
       "</div>"
      ],
      "text/plain": [
       "            MRTSSM4453USN\n",
       "DATE                     \n",
       "1992-12-31    1807.250000\n",
       "1993-12-31    1794.833333\n",
       "1994-12-31    1841.750000\n",
       "1995-12-31    1833.916667\n",
       "1996-12-31    1929.750000\n",
       "1997-12-31    2006.750000\n",
       "1998-12-31    2115.166667\n",
       "1999-12-31    2206.333333\n",
       "2000-12-31    2375.583333\n",
       "2001-12-31    2468.416667\n",
       "2002-12-31    2491.166667\n",
       "2003-12-31    2539.083333\n",
       "2004-12-31    2682.416667\n",
       "2005-12-31    2797.250000\n",
       "2006-12-31    3001.333333\n",
       "2007-12-31    3177.333333\n",
       "2008-12-31    3292.000000\n",
       "2009-12-31    3353.750000\n",
       "2010-12-31    3450.083333\n",
       "2011-12-31    3532.666667\n",
       "2012-12-31    3697.083333\n",
       "2013-12-31    3839.666667\n",
       "2014-12-31    4023.833333\n",
       "2015-12-31    4212.500000\n",
       "2016-12-31    4434.416667\n",
       "2017-12-31    4602.666667\n",
       "2018-12-31    4830.666667\n",
       "2019-12-31    4972.750000\n",
       "2020-12-31    4922.500000"
      ]
     },
     "execution_count": 57,
     "metadata": {},
     "output_type": "execute_result"
    }
   ],
   "source": [
    "sales.resample(rule='A').mean()"
   ]
  },
  {
   "cell_type": "code",
   "execution_count": null,
   "id": "67004a92",
   "metadata": {},
   "outputs": [],
   "source": []
  },
  {
   "cell_type": "code",
   "execution_count": null,
   "id": "b9ebfd1e",
   "metadata": {},
   "outputs": [],
   "source": []
  },
  {
   "cell_type": "code",
   "execution_count": null,
   "id": "132a09c7",
   "metadata": {},
   "outputs": [],
   "source": []
  },
  {
   "cell_type": "code",
   "execution_count": null,
   "id": "03fb6f27",
   "metadata": {},
   "outputs": [],
   "source": []
  },
  {
   "cell_type": "code",
   "execution_count": null,
   "id": "a72e281d",
   "metadata": {},
   "outputs": [],
   "source": []
  },
  {
   "cell_type": "code",
   "execution_count": null,
   "id": "19618e79",
   "metadata": {},
   "outputs": [],
   "source": []
  },
  {
   "cell_type": "code",
   "execution_count": null,
   "id": "3acec582",
   "metadata": {},
   "outputs": [],
   "source": []
  },
  {
   "cell_type": "code",
   "execution_count": null,
   "id": "9e5ebcf4",
   "metadata": {},
   "outputs": [],
   "source": []
  },
  {
   "cell_type": "code",
   "execution_count": null,
   "id": "df054b2e",
   "metadata": {},
   "outputs": [],
   "source": []
  },
  {
   "cell_type": "code",
   "execution_count": null,
   "id": "989a06ae",
   "metadata": {},
   "outputs": [],
   "source": []
  },
  {
   "cell_type": "code",
   "execution_count": null,
   "id": "4b4a4ac5",
   "metadata": {},
   "outputs": [],
   "source": []
  },
  {
   "cell_type": "code",
   "execution_count": null,
   "id": "1161693c",
   "metadata": {},
   "outputs": [],
   "source": []
  }
 ],
 "metadata": {
  "kernelspec": {
   "display_name": "Python 3 (ipykernel)",
   "language": "python",
   "name": "python3"
  },
  "language_info": {
   "codemirror_mode": {
    "name": "ipython",
    "version": 3
   },
   "file_extension": ".py",
   "mimetype": "text/x-python",
   "name": "python",
   "nbconvert_exporter": "python",
   "pygments_lexer": "ipython3",
   "version": "3.9.12"
  }
 },
 "nbformat": 4,
 "nbformat_minor": 5
}
